{
 "cells": [
  {
   "cell_type": "markdown",
   "metadata": {},
   "source": [
    "In generic trees : each node can has as many children as you want (no restrictions)\n",
    "\n",
    "here,\n",
    "\n",
    "each node will have (data, child 1,child 2.....child n)\n",
    "\n",
    "so here we store nodes children in list (which contain address of the children)"
   ]
  },
  {
   "cell_type": "code",
   "execution_count": 2,
   "metadata": {},
   "outputs": [],
   "source": [
    "class Treenode:\n",
    "    \n",
    "    def __init__(self,data):\n",
    "        self.data=data\n",
    "        self.children=list()\n"
   ]
  },
  {
   "cell_type": "code",
   "execution_count": 3,
   "metadata": {},
   "outputs": [],
   "source": [
    "def takeinput():\n",
    "    print('enter root data')\n",
    "    rootdata=int(input())\n",
    "    if rootdata==-1:\n",
    "        return None\n",
    "    \n",
    "    root=Treenode(rootdata)\n",
    "    print('enter no. of children of :', rootdata)\n",
    "    children_count=int(input())\n",
    "    for i in range(children_count):\n",
    "        child=takeinput()\n",
    "        root.children.append(child)\n",
    "        \n",
    "    return root"
   ]
  },
  {
   "cell_type": "code",
   "execution_count": 4,
   "metadata": {},
   "outputs": [],
   "source": [
    "def printtree(root):\n",
    "    # here no need for base case,\n",
    "    # because here we have instead adding children to list, so if node is leaf i.e there is no child then it will not print \n",
    "    \n",
    "    # below one is not a base case, but an edge case\n",
    "    if root is None:\n",
    "        return \n",
    "    print(root.data)\n",
    "    for child in root.children:\n",
    "        printtree(child)"
   ]
  },
  {
   "cell_type": "code",
   "execution_count": 5,
   "metadata": {},
   "outputs": [],
   "source": [
    "def printdetailed(root):\n",
    "    if root is None:\n",
    "        return \n",
    "    \n",
    "    print(root.data,':',end='')\n",
    "    for child in root.children:\n",
    "        print(child.data,',',end='')\n",
    "    \n",
    "    print()\n",
    "    \n",
    "    for child in root.children:\n",
    "        printdetailed(child) \n",
    "    \n",
    "    "
   ]
  },
  {
   "cell_type": "markdown",
   "metadata": {},
   "source": [
    "No. of NOdes"
   ]
  },
  {
   "cell_type": "code",
   "execution_count": 6,
   "metadata": {},
   "outputs": [],
   "source": [
    "def num_nodes(root):\n",
    "    if root is None:\n",
    "        count=0 \n",
    "        return count\n",
    "    \n",
    "    count=1\n",
    "    for child in root.children:\n",
    "        count+=num_nodes(child)\n",
    "        \n",
    "    return count"
   ]
  },
  {
   "cell_type": "markdown",
   "metadata": {},
   "source": [
    "Sum Of Nodes"
   ]
  },
  {
   "cell_type": "code",
   "execution_count": 7,
   "metadata": {},
   "outputs": [],
   "source": [
    "def sum_nodes(root):\n",
    "    if root is None:\n",
    "        return -1\n",
    "    sum_=root.data\n",
    "    for child in root.children:\n",
    "        sum_+=sum_nodes(child)\n",
    "    \n",
    "    return sum_"
   ]
  },
  {
   "cell_type": "markdown",
   "metadata": {},
   "source": [
    "Max node:\n",
    "\n",
    "Part1-- return maximum node data"
   ]
  },
  {
   "cell_type": "code",
   "execution_count": 8,
   "metadata": {},
   "outputs": [],
   "source": [
    "def maxnode(root):\n",
    "    if root is None:\n",
    "        return None\n",
    "    MAX=0\n",
    "    for child in root.children:\n",
    "        MAX= max(MAX,maxnode(child))\n",
    "    \n",
    "    return max(MAX,root.data)"
   ]
  },
  {
   "cell_type": "markdown",
   "metadata": {},
   "source": [
    "Part2--- return node corresponding to maximum data"
   ]
  },
  {
   "cell_type": "code",
   "execution_count": 9,
   "metadata": {},
   "outputs": [],
   "source": [
    "def maxDataNode(tree):\n",
    "    if tree is None:\n",
    "        return None\n",
    "    MAX=tree\n",
    "    for child in tree.children:\n",
    "        if maxDataNode(child).data>MAX.data:\n",
    "            MAX=maxDataNode(child)\n",
    "    \n",
    "    return MAX"
   ]
  },
  {
   "cell_type": "code",
   "execution_count": 10,
   "metadata": {},
   "outputs": [],
   "source": [
    "def height(tree):\n",
    "    if tree is None:\n",
    "        return 0\n",
    "    \n",
    "    Max=0\n",
    "    for child in tree.children:\n",
    "        Max=max(Max,height(child))\n",
    "    \n",
    "    return 1+Max"
   ]
  },
  {
   "cell_type": "code",
   "execution_count": 11,
   "metadata": {},
   "outputs": [
    {
     "name": "stdout",
     "output_type": "stream",
     "text": [
      "enter root data\n",
      "1\n",
      "enter no. of children of : 1\n",
      "2\n",
      "enter root data\n",
      "3\n",
      "enter no. of children of : 3\n",
      "0\n",
      "enter root data\n",
      "4\n",
      "enter no. of children of : 4\n",
      "1\n",
      "enter root data\n",
      "5\n",
      "enter no. of children of : 5\n",
      "0\n",
      "1 :3 ,4 ,\n",
      "3 :\n",
      "4 :5 ,\n",
      "5 :\n",
      "no. of nodes are: 4\n",
      "13\n",
      "5\n",
      "\n",
      "5\n",
      "\n",
      "3\n"
     ]
    }
   ],
   "source": [
    "root=takeinput()\n",
    "printdetailed(root)\n",
    "print('no. of nodes are:',num_nodes(root))\n",
    "print(sum_nodes(root))\n",
    "print(maxnode(root))\n",
    "print()\n",
    "print(maxDataNode(root).data)\n",
    "print()\n",
    "print(height(root))"
   ]
  },
  {
   "cell_type": "markdown",
   "metadata": {},
   "source": [
    "Levelwise"
   ]
  },
  {
   "cell_type": "code",
   "execution_count": 14,
   "metadata": {},
   "outputs": [
    {
     "name": "stdout",
     "output_type": "stream",
     "text": [
      "Enter root\n",
      "1\n",
      "enter no. of children for 1\n",
      "3\n",
      "enter next child of 1\n",
      "10\n",
      "enter next child of 1\n",
      "11\n",
      "enter next child of 1\n",
      "12\n",
      "enter no. of children for 10\n",
      "0\n",
      "enter no. of children for 11\n",
      "2\n",
      "enter next child of 11\n",
      "19\n",
      "enter next child of 11\n",
      "17\n",
      "enter no. of children for 12\n",
      "0\n",
      "enter no. of children for 19\n",
      "0\n",
      "enter no. of children for 17\n",
      "0\n",
      "1:10,11,12\n",
      "10:\n",
      "11:19,17\n",
      "12:\n",
      "19:\n",
      "17:\n"
     ]
    }
   ],
   "source": [
    "class Treenode:\n",
    "    \n",
    "    def __init__(self,data):\n",
    "        self.data=data\n",
    "        self.children=list()\n",
    "\n",
    "import queue\n",
    "def takeinput_levelwise():\n",
    "    q=queue.Queue()\n",
    "    print('Enter root')\n",
    "    rootdata=int(input())\n",
    "    if rootdata==-1:\n",
    "        return None\n",
    "    root=Treenode(rootdata)\n",
    "    q.put(root)\n",
    "    \n",
    "    while (not(q.empty())):\n",
    "        curr=q.get()\n",
    "        print('enter no. of children for',curr.data)\n",
    "        c=int(input())\n",
    "        for i in range(c):\n",
    "            print('enter next child of',curr.data)\n",
    "            childdata=int(input())\n",
    "            child=Treenode(childdata)\n",
    "            curr.children.append(child)\n",
    "            q.put(child)\n",
    "    \n",
    "    return root\n",
    "\n",
    "import queue    \n",
    "def printLevelWiseTree(tree):\n",
    "    q1=queue.Queue()\n",
    "    if tree is None:\n",
    "        return None\n",
    "    \n",
    "    q1.put(tree)\n",
    "    \n",
    "    while (not(q1.empty())):\n",
    "        curr=q1.get()\n",
    "        print(curr.data,end=':')\n",
    "        for i in range(0,len(curr.children)-1):\n",
    "            print(curr.children[i].data,end=\"\")\n",
    "            print(\",\",end=\"\")\n",
    "            q1.put(curr.children[i])\n",
    "        if len(curr.children)!=0:\n",
    "            print(curr.children[len(curr.children)-1].data,end=\"\")\n",
    "            q1.put(curr.children[len(curr.children)-1])\n",
    "        print()\n",
    "        \n",
    "\n",
    "def printdetailed(root):\n",
    "    if root is None:\n",
    "        return \n",
    "    \n",
    "    print(root.data,':',end='')\n",
    "    for child in root.children:\n",
    "        print(child.data,',',end='')\n",
    "    \n",
    "    print()\n",
    "    \n",
    "    for child in root.children:\n",
    "        printdetailed(child) \n",
    "    \n",
    "c=takeinput_levelwise()\n",
    "printLevelWiseTree(c)"
   ]
  },
  {
   "cell_type": "code",
   "execution_count": 15,
   "metadata": {},
   "outputs": [
    {
     "name": "stdout",
     "output_type": "stream",
     "text": [
      "10\n",
      "10 3 20 30 40 2 40 50 0 0 0 0 \n",
      "true\n"
     ]
    }
   ],
   "source": [
    "class treeNode:\n",
    "    def __init__(self, data):\n",
    "        self.data = data\n",
    "        self.children = []\n",
    "    def __str__(self):\n",
    "        return str(self.data)\n",
    "\n",
    "def containsX(tree, x):\n",
    "    if tree is None:\n",
    "        return False\n",
    "    \n",
    "    if tree.data==x:\n",
    "        return True\n",
    "    \n",
    "    for child in tree.children:\n",
    "        a=containsX(child,x)\n",
    "        \n",
    "        if a==True:\n",
    "            return True\n",
    "    \n",
    "def createLevelWiseTree(arr):\n",
    "    root = treeNode(int(arr[0]))\n",
    "    q = [root]\n",
    "    size = len(arr)\n",
    "    i = 1\n",
    "    while i<size:\n",
    "        parent = q.pop(0)\n",
    "        childCount = int(arr[i])\n",
    "        i += 1\n",
    "        for j in range(0,childCount):\n",
    "            temp = treeNode(int(arr[i+j]))\n",
    "            parent.children.append(temp)\n",
    "            q.append(temp)\n",
    "        i += childCount\n",
    "    return root\n",
    "\n",
    "# Main\n",
    "x=int(input())\n",
    "arr = list(int(x) for x in input().strip().split(' '))\n",
    "tree = createLevelWiseTree(arr)\n",
    "if containsX(tree,x):\n",
    "    print('true')\n",
    "else:\n",
    "    print('false')\n",
    "\n"
   ]
  },
  {
   "cell_type": "markdown",
   "metadata": {},
   "source": [
    "Count No. of Leeaf Nodes"
   ]
  },
  {
   "cell_type": "code",
   "execution_count": 16,
   "metadata": {},
   "outputs": [
    {
     "name": "stdout",
     "output_type": "stream",
     "text": [
      "10 3 20 30 40 2 40 50 0 0 0 0 \n",
      "4\n"
     ]
    }
   ],
   "source": [
    "class treeNode:\n",
    "    def __init__(self, data):\n",
    "        self.data = data\n",
    "        self.children = []\n",
    "    def __str__(self):\n",
    "        return str(self.data)\n",
    "\n",
    "def leafNodeCount(tree):\n",
    "    if tree is None:\n",
    "        return 0\n",
    "\n",
    "    if len(tree.children)==0:    \n",
    "        return 1\n",
    "    a=0\n",
    "    for child in tree.children:\n",
    "        a+=leafNodeCount(child)\n",
    "    \n",
    "    return a\n",
    "def createLevelWiseTree(arr):\n",
    "    root = treeNode(int(arr[0]))\n",
    "    q = [root]\n",
    "    size = len(arr)\n",
    "    i = 1\n",
    "    while i<size:\n",
    "        parent = q.pop(0)\n",
    "        childCount = int(arr[i])\n",
    "        i += 1\n",
    "        for j in range(0,childCount):\n",
    "            temp = treeNode(int(arr[i+j]))\n",
    "            parent.children.append(temp)\n",
    "            q.append(temp)\n",
    "        i += childCount\n",
    "    return root\n",
    "\n",
    "# Main\n",
    "arr = list(int(x) for x in input().strip().split(' '))\n",
    "tree = createLevelWiseTree(arr)\n",
    "print(leafNodeCount(tree))"
   ]
  },
  {
   "cell_type": "markdown",
   "metadata": {},
   "source": [
    "Node with Maximum sum child"
   ]
  },
  {
   "cell_type": "code",
   "execution_count": 17,
   "metadata": {},
   "outputs": [
    {
     "name": "stdout",
     "output_type": "stream",
     "text": [
      "5 3 1 2 3 1 15 2 4 5 1 6 0 0 0 0\n",
      "1\n"
     ]
    }
   ],
   "source": [
    "class treeNode:\n",
    "    def __init__(self, data):\n",
    "        self.data = data\n",
    "        self.children = []\n",
    "\n",
    "def sum_cal(tree):\n",
    "    if tree is None:\n",
    "        return None\n",
    "    \n",
    "    s=tree.data\n",
    "    for child in tree.children:\n",
    "        s+=child.data\n",
    "        \n",
    "    return s\n",
    "\n",
    "def maxSumNode(tree):\n",
    "    if tree is None:\n",
    "        return None,0\n",
    "    \n",
    "    ans=tree\n",
    "    s=sum_cal(tree)\n",
    "    \n",
    "    if len(tree.children)==0:\n",
    "        return tree,s\n",
    "\n",
    "    for child in tree.children:\n",
    "        child,x=maxSumNode(child)\n",
    "        if x>s:\n",
    "            ans=child\n",
    "            s=x\n",
    "    \n",
    "    return ans,s\n",
    "    \n",
    "    \n",
    "def createLevelWiseTree(arr):\n",
    "    root = treeNode(int(arr[0]))\n",
    "    q = [root]\n",
    "    size = len(arr)\n",
    "    i = 1\n",
    "    while i<size:\n",
    "        parent = q.pop(0)\n",
    "        childCount = int(arr[i])\n",
    "        i += 1\n",
    "        for j in range(0,childCount):\n",
    "            temp = treeNode(int(arr[i+j]))\n",
    "            parent.children.append(temp)\n",
    "            q.append(temp)\n",
    "        i += childCount\n",
    "    return root\n",
    "\n",
    "# Main\n",
    "arr = list(int(x) for x in input().strip().split(' '))\n",
    "tree = createLevelWiseTree(arr)\n",
    "temp, tempSum = maxSumNode(tree)\n",
    "print(temp.data)\n"
   ]
  },
  {
   "cell_type": "markdown",
   "metadata": {},
   "source": [
    "Structurally Identical or Not"
   ]
  },
  {
   "cell_type": "code",
   "execution_count": 18,
   "metadata": {},
   "outputs": [
    {
     "name": "stdout",
     "output_type": "stream",
     "text": [
      "10 3 20 30 40 2 40 50 0 0 0 0 \n",
      "10 3 20 30 40 2 40 50 0 0 0 0\n",
      "true\n"
     ]
    }
   ],
   "source": [
    "class treeNode:\n",
    "    def __init__(self, data):\n",
    "        self.data = data\n",
    "        self.children = []\n",
    "\n",
    "def isIdentical(tree1, tree2):\n",
    "    if tree1 is None or tree2 is None:\n",
    "        return False\n",
    "    \n",
    "    flag=False\n",
    "    \n",
    "    if tree1 is not None and tree2 is not None:\n",
    "        if tree1.data==tree2.data:\n",
    "            flag=True\n",
    "            if len(tree1.children)==len(tree2.children):\n",
    "                for i in range(len(tree1.children)):\n",
    "                    flag=isIdentical(tree1.children[i],tree2.children[i])\n",
    "            else:\n",
    "                flag=False\n",
    "\n",
    "    return flag\n",
    "\n",
    "def createLevelWiseTree(arr):\n",
    "    root = treeNode(int(arr[0]))\n",
    "    q = [root]\n",
    "    size = len(arr)\n",
    "    i = 1\n",
    "    while i<size:\n",
    "        parent = q.pop(0)\n",
    "        childCount = int(arr[i])\n",
    "        i += 1\n",
    "        for j in range(0,childCount):\n",
    "            temp = treeNode(int(arr[i+j]))\n",
    "            parent.children.append(temp)\n",
    "            q.append(temp)\n",
    "        i += childCount\n",
    "    return root\n",
    "\n",
    "# Main\n",
    "arr1 = list(int(x) for x in input().strip().split(' '))\n",
    "tree1 = createLevelWiseTree(arr1)\n",
    "arr2 = list(int(x) for x in input().strip().split(' '))\n",
    "tree2 = createLevelWiseTree(arr2)\n",
    "if isIdentical(tree1, tree2):\n",
    "    print('true')\n",
    "else:\n",
    "    print('false')\n"
   ]
  },
  {
   "cell_type": "markdown",
   "metadata": {},
   "source": [
    "Next Larger element ass comapred to given data"
   ]
  },
  {
   "cell_type": "code",
   "execution_count": 20,
   "metadata": {},
   "outputs": [
    {
     "name": "stdout",
     "output_type": "stream",
     "text": [
      "18\n",
      "10 3 20 30 40 2 40 50 0 0 0 0 \n",
      "20\n"
     ]
    }
   ],
   "source": [
    "class treeNode:\n",
    "    def __init__(self, data):\n",
    "        self.data = data\n",
    "        self.children = []\n",
    "\n",
    "def nexthelper(tree,n,l):\n",
    "    if tree is None:\n",
    "        return\n",
    "    if tree.data>n:\n",
    "        l.append(tree)\n",
    "    \n",
    "    for child in tree.children:\n",
    "        nexthelper(child,n,l)\n",
    "    \n",
    "    return l\n",
    "\n",
    "def nextLargest(tree, n):\n",
    "    x=nexthelper(tree,n,l=list())\n",
    "    min=x[0]\n",
    "    for i in range(1,len(x)):\n",
    "        if x[i].data<min.data:\n",
    "            min=x[i]\n",
    "    \n",
    "    return min\n",
    "\n",
    "def createLevelWiseTree(arr):\n",
    "    root = treeNode(int(arr[0]))\n",
    "    q = [root]\n",
    "    size = len(arr)\n",
    "    i = 1\n",
    "    while i<size:\n",
    "        parent = q.pop(0)\n",
    "        childCount = int(arr[i])\n",
    "        i += 1\n",
    "        for j in range(0,childCount):\n",
    "            temp = treeNode(int(arr[i+j]))\n",
    "            parent.children.append(temp)\n",
    "            q.append(temp)\n",
    "        i += childCount\n",
    "    return root\n",
    "\n",
    "# Main\n",
    "n = int(input())\n",
    "arr = list(int(x) for x in input().strip().split(' '))\n",
    "tree = createLevelWiseTree(arr)\n",
    "print(nextLargest(tree, n).data)\n"
   ]
  },
  {
   "cell_type": "markdown",
   "metadata": {},
   "source": [
    "Replace with Depth"
   ]
  },
  {
   "cell_type": "code",
   "execution_count": 21,
   "metadata": {},
   "outputs": [
    {
     "name": "stdout",
     "output_type": "stream",
     "text": [
      "10 3 20 30 40 2 40 50 0 0 0 0 \n",
      "0 \n",
      "1 1 1 \n",
      "2 2 \n"
     ]
    }
   ],
   "source": [
    "class treeNode:\n",
    "    def __init__(self, data):\n",
    "        self.data = data\n",
    "        self.children = []\n",
    "\n",
    "def replacewithDepth(tree,depth=0):\n",
    "    if tree is None:\n",
    "        return None\n",
    "    \n",
    "    tree.data=depth\n",
    "    \n",
    "    for child in tree.children:\n",
    "        replacewithDepth(child,depth+1)\n",
    "\n",
    "def createLevelWiseTree(arr):\n",
    "    root = treeNode(int(arr[0]))\n",
    "    q = [root]\n",
    "    size = len(arr)\n",
    "    i = 1\n",
    "    while i<size:\n",
    "        parent = q.pop(0)\n",
    "        childCount = int(arr[i])\n",
    "        i += 1\n",
    "        for j in range(0,childCount):\n",
    "            temp = treeNode(int(arr[i+j]))\n",
    "            parent.children.append(temp)\n",
    "            q.append(temp)\n",
    "        i += childCount\n",
    "    return root\n",
    "\n",
    "def printLevelAtNewLine(tree):\n",
    "    q = [tree]\n",
    "    newq = []\n",
    "    while q:\n",
    "        parent = q.pop(0)\n",
    "        print(parent.data, end=' ')\n",
    "        for child in parent.children:\n",
    "            newq.append(child)\n",
    "        if len(q)==0:\n",
    "            q = newq\n",
    "            newq = []\n",
    "            print()  # Move to next Line\n",
    "\n",
    "# Main\n",
    "arr = list(int(x) for x in input().strip().split(' '))\n",
    "tree = createLevelWiseTree(arr)\n",
    "replacewithDepth(tree)\n",
    "printLevelAtNewLine(tree)\n"
   ]
  },
  {
   "cell_type": "code",
   "execution_count": null,
   "metadata": {},
   "outputs": [],
   "source": []
  }
 ],
 "metadata": {
  "kernelspec": {
   "display_name": "Python 3",
   "language": "python",
   "name": "python3"
  },
  "language_info": {
   "codemirror_mode": {
    "name": "ipython",
    "version": 3
   },
   "file_extension": ".py",
   "mimetype": "text/x-python",
   "name": "python",
   "nbconvert_exporter": "python",
   "pygments_lexer": "ipython3",
   "version": "3.7.6"
  }
 },
 "nbformat": 4,
 "nbformat_minor": 4
}
